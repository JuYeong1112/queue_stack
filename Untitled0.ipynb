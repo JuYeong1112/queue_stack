{
  "nbformat": 4,
  "nbformat_minor": 0,
  "metadata": {
    "colab": {
      "provenance": []
    },
    "kernelspec": {
      "name": "python3",
      "display_name": "Python 3"
    },
    "language_info": {
      "name": "python"
    }
  },
  "cells": [
    {
      "cell_type": "code",
      "execution_count": 1,
      "metadata": {
        "id": "TbQNrpD4C8kg"
      },
      "outputs": [],
      "source": [
        "from collections import deque\n",
        "\n",
        "class MyStack:\n",
        "    def __init__(self):\n",
        "        self.queue1 = deque()\n",
        "        self.queue2 = deque()\n",
        "\n",
        "    def push(self, x):\n",
        "        self.queue2.append(x)\n",
        "        while self.queue1:\n",
        "            self.queue2.append(self.queue1.popleft())\n",
        "        self.queue1, self.queue2 = self.queue2, self.queue1\n",
        "\n",
        "    def pop(self):\n",
        "        return self.queue1.popleft()\n",
        "\n",
        "    def top(self):\n",
        "        return self.queue1[0]\n",
        "\n",
        "    def empty(self):\n",
        "        return not self.queue1\n"
      ]
    }
  ]
}