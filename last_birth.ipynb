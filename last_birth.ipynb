{
 "cells": [
  {
   "cell_type": "markdown",
   "id": "b764cb3c",
   "metadata": {},
   "source": [
    "# 1-3.\n",
    "## 생일 데이터(birthday.csv) 에서 생일이 느린 순서로 10명의 친구를 출력하는 코드 작성"
   ]
  },
  {
   "cell_type": "code",
   "execution_count": null,
   "id": "75d9cb43",
   "metadata": {},
   "outputs": [
    {
     "name": "stdout",
     "output_type": "stream",
     "text": [
      "생일이 가장 늦은 친구 10명:\n",
      "신수민: 2005-12-30\n",
      "이서영: 2005-12-25\n",
      "강민주: 2005-12-14\n",
      "김민경: 2005-12-02\n",
      "이서영: 2005-11-12\n",
      "배시은: 2005-11-02\n",
      "김여원: 2005-10-31\n",
      "이서진: 2005-10-28\n",
      "서홍빈: 2005-10-24\n",
      "김예빈: 2005-10-19\n"
     ]
    }
   ],
   "source": [
    "from datetime import datetime\n",
    "import csv\n",
    "\n",
    "class Heap:\n",
    "    def __init__(self):\n",
    "        self.__A = []\n",
    "\n",
    "    def insert(self, x):\n",
    "        self.__A.append(x)\n",
    "        self.__percolateUp(len(self.__A)-1)\n",
    "\n",
    "    def __percolateUp(self, i):\n",
    "        parent = (i - 1) // 2\n",
    "        if i > 0 and self.__A[i][0] > self.__A[parent][0]:\n",
    "            self.__A[i], self.__A[parent] = self.__A[parent], self.__A[i]\n",
    "            self.__percolateUp(parent)\n",
    "\n",
    "    def deleteMax(self):\n",
    "        if len(self.__A) == 1:\n",
    "            return self.__A.pop()\n",
    "        elif not self.isEmpty():\n",
    "            max_item = self.__A[0]\n",
    "            self.__A[0] = self.__A.pop()\n",
    "            self.__percolateDown(0)\n",
    "            return max_item\n",
    "        else:\n",
    "            return None\n",
    "\n",
    "    def __percolateDown(self, i):\n",
    "        child = 2 * i + 1\n",
    "        right = 2 * i + 2\n",
    "        if child <= len(self.__A) - 1:\n",
    "            if right <= len(self.__A) - 1 and self.__A[child][0] < self.__A[right][0]:\n",
    "                child = right\n",
    "            if self.__A[i][0] < self.__A[child][0]:\n",
    "                self.__A[i], self.__A[child] = self.__A[child], self.__A[i]\n",
    "                self.__percolateDown(child)\n",
    "\n",
    "    def isEmpty(self):\n",
    "        return len(self.__A) == 0\n",
    "\n",
    "    def size(self):\n",
    "        return len(self.__A) \n",
    "file_path = \"birthday.csv\"\n",
    "\n",
    "heap = Heap()\n",
    "with open(file_path, encoding=\"utf-8-sig\") as file:\n",
    "    reader = csv.reader(file)\n",
    "    next(reader)  \n",
    "    for row in reader:\n",
    "        name = row[1]\n",
    "        birth_raw = row[2]\n",
    "\n",
    "        if not birth_raw.strip():\n",
    "            continue\n",
    "        try:\n",
    "            birth_raw = birth_raw.strip()\n",
    "            if birth_raw.isdigit() and len(birth_raw) == 8:\n",
    "             birth_date = datetime.strptime(birth_raw, \"%Y%m%d\")\n",
    "             heap.insert((birth_date, name))\n",
    "\n",
    "        except ValueError:\n",
    "         continue\n",
    "\n",
    "print(\"생일이 가장 늦은 친구 10명:\")\n",
    "for _ in range(min(10, heap.size())):\n",
    "    birth_date, name = heap.deleteMax()\n",
    "    print(f\"{name}: {birth_date.strftime('%Y-%m-%d')}\")"
   ]
  },
  {
   "cell_type": "markdown",
   "id": "6c164029",
   "metadata": {},
   "source": [
    "# 4.\n",
    "## 생일 데이터를 circularDoublyLinkedList.py를 이용해 리스트로 저장한 후, 조원들의 이름과 생년월일을 출력하는 코드를 작성"
   ]
  },
  {
   "cell_type": "code",
   "execution_count": 10,
   "id": "3fa666ab",
   "metadata": {},
   "outputs": [
    {
     "name": "stdout",
     "output_type": "stream",
     "text": [
      "조원들의 생일 목록:\n",
      "강다원: 2003-10-15\n",
      "강주영: 2004-12-28\n",
      "김소민: 2005-02-03\n",
      "김예원: 2004-04-12\n",
      "윤소정: 2004-04-13\n",
      "이서연: 2004-10-07\n",
      "이채린: 2003-05-16\n",
      "정혜민: 2003-09-17\n",
      "홍서연: 2004-06-11\n"
     ]
    }
   ],
   "source": [
    "from datetime import datetime\n",
    "import csv\n",
    "\n",
    "class Node:\n",
    "    def __init__(self, name, birth):\n",
    "        self.name = name\n",
    "        self.birth = birth\n",
    "        self.prev = None\n",
    "        self.next = None\n",
    "\n",
    "class CircularDoublyLinkedList:\n",
    "    def __init__(self):\n",
    "        self.head = Node(None, None)\n",
    "        self.head.next = self.head\n",
    "        self.head.prev = self.head\n",
    "\n",
    "    def append(self, name, birth_str):\n",
    "        try:\n",
    "         birth = datetime.strptime(birth_str.strip(), \"%Y%m%d\")\n",
    "        except ValueError:\n",
    "          return\n",
    "\n",
    "\n",
    "        new_node = Node(name, birth)\n",
    "        last = self.head.prev\n",
    "\n",
    "        last.next = new_node\n",
    "        new_node.prev = last\n",
    "        new_node.next = self.head\n",
    "        self.head.prev = new_node\n",
    "\n",
    "    def print_group(self, group_names):\n",
    "        print(\"조원들의 생일 목록:\")\n",
    "        current = self.head.next\n",
    "        while current != self.head:\n",
    "            if current.name in group_names:\n",
    "                print(f\"{current.name}: {current.birth.strftime('%Y-%m-%d')}\")\n",
    "            current = current.next\n",
    "\n",
    "group_members = {\"강주영\", \"김예원\", \"정혜민\", \"윤소정\", \"홍서연\", \"이채린\", \"김소민\", \"강다원\", \"전예빈\", \"이서연\"}\n",
    "file_path = \"birthday.csv\"\n",
    "\n",
    "cdll = CircularDoublyLinkedList()\n",
    "with open(file_path, encoding=\"utf-8-sig\") as file:\n",
    "    reader = csv.reader(file)\n",
    "    next(reader)\n",
    "    for row in reader:\n",
    "        name = row[1]\n",
    "        birth = row[2]\n",
    "        cdll.append(name, birth)\n",
    "\n",
    "cdll.print_group(group_members)\n"
   ]
  },
  {
   "cell_type": "markdown",
   "id": "07275fee",
   "metadata": {},
   "source": [
    "# 5.\n",
    "## 교재 8장 우선 순위 큐 연습문제"
   ]
  },
  {
   "cell_type": "markdown",
   "id": "fbe3000a",
   "metadata": {},
   "source": [
    "### 1.\n",
    "#### 임의의 최대 힙에서 더 얕은 곳에 있는 원소는 더 깊은 곳에 있는 원소보다 더 작은 값을 가질 수 있다. 최대 힙은 부모가 항상 자식보다 크거나 같기 때문에에 깊은 곳에 있는 원소가 루트보다 클 수 없다."
   ]
  },
  {
   "cell_type": "markdown",
   "id": "4e417140",
   "metadata": {},
   "source": [
    "### 2.\n",
    "#### 최대 힙의 마지막 원소가 항상 가장 작은 값은 아니다. A[n-1]은 단지 배열의 마지막 원소일 뿐이다. 힙 구조상 \"가장 작은 값\"이 어떤 위치에 있는지는는 특정할 수 없다다."
   ]
  },
  {
   "cell_type": "markdown",
   "id": "0785a1ec",
   "metadata": {},
   "source": [
    "### 3.\n",
    "#### 그냥 넘어가는 원소 수는 (n-1)-(n-2)//2개이다. 길이가 n인 임의의 리스트를 힙으로 만들 때, 마지막 요소의 인덱스는 n-1이다. 따라서 인덱스가 ((n-1)-1)//2 즉 (n-2)//2부터 0까지의 인덱스를 갖는 요소를 대상으로 스며내리기를 진행한다\n"
   ]
  },
  {
   "cell_type": "markdown",
   "id": "ad33bda6",
   "metadata": {},
   "source": [
    "### 4.\n",
    "#### Θ(n)이다. 직관적으로 O(n log n)처럼 보인다. 하지만, 자식이 많은 상위 노드는 적고, 자식이 적은 하위 노드는 많기 때문에 총 작업량은 선형(Θ(n))에 수렴한다."
   ]
  },
  {
   "cell_type": "markdown",
   "id": "fd439f03",
   "metadata": {},
   "source": [
    "### 5.\n",
    "#### 맨 마지막 원소를 삭제하는 작업의의 요구는 간단하다. 루트에 있는 값을 삭제하고, 마지막 원소를 루트로 옮긴 후 스며내리기 작업만 만 거치면 되기 때문이다."
   ]
  },
  {
   "cell_type": "markdown",
   "id": "ed66b010",
   "metadata": {},
   "source": [
    "### 6.\n",
    "#### 본문에 제시한 방법에 비해 비효율적이다. 위쪽부터 시작해서 스며오르기를 반복하여 build_heap() 알고리즘을 구현한다면 0번째째 요소에는 이미 맨 위의 요소이므로 스며오르기를 할 수 없다. 즉, 1번째째 요소부터 (n-1)번째 요소까지 진행한다. 처음 스며오르기를 진행할 땐 대상 노드의 깊이가 얕기 때문에 비교와 교체 작업이 많지는 않지만, index가 커질수록 대상 노드의 깊이가 깊어져 스며오르기를 logn번 진행해야 할 수도 있다. 이를 점근적 시간으로 나타냈을 때 (n/2) * logn + (n/4) * log(n-1) + (n/8) * log(n-2) + ... + n/(2**(n-1)) * log2 즉 Θ(nlogn)의 시간이 소요된다. 이 방법은 Θ(n)의 시간이 소요되는 스며내리기를 이용한 build_heap() 알고리즘보다 비효율적이다."
   ]
  },
  {
   "cell_type": "markdown",
   "id": "32ab4dbb",
   "metadata": {},
   "source": [
    "### 7.\n",
    "#### 힙의 성질을 수선하기 위해서는 스며올리기(percolate up) 과정을 수행해야한다. 그 과정은 우선, 값이 증가한 노드를 현재 위치 i로 두고 부모 노드의 인덱스((i - 1) // 2 )를 계산한다. 다음으로 현재 노드의 값이 부모보다 크면,두 노드의 값을 교환(swap) 하고 노드의 위치를 부모로 갱신한다. 이 과정을 반복하면 힙의 성질이 다시 만족되고, O(logn) 시간만에 변화를 반영하여 힙은 정상 상태로 수선 가능하다."
   ]
  },
  {
   "cell_type": "markdown",
   "id": "64aa0e76",
   "metadata": {},
   "source": [
    "# 6. \n",
    "## LeetCode 703.\n",
    "### Kth Largest Element in Stream"
   ]
  },
  {
   "cell_type": "code",
   "execution_count": null,
   "id": "1b1950e7",
   "metadata": {},
   "outputs": [
    {
     "name": "stdout",
     "output_type": "stream",
     "text": [
      "4\n",
      "5\n",
      "5\n",
      "8\n",
      "8\n"
     ]
    }
   ],
   "source": [
    "import heapq\n",
    "\n",
    "class KthLargest:\n",
    "    def __init__(self, k, nums):\n",
    "        self.k = k\n",
    "        self.min_heap = []\n",
    "        for num in nums:\n",
    "            self.add(num)\n",
    "\n",
    "    def add(self, val):\n",
    "        heapq.heappush(self.min_heap, val)\n",
    "        if len(self.min_heap) > self.k:\n",
    "            heapq.heappop(self.min_heap)\n",
    "        return self.min_heap[0]\n",
    "if __name__ == \"__main__\":\n",
    "    kth = KthLargest(3, [4, 5, 8, 2])\n",
    "    print(kth.add(3))   \n",
    "    print(kth.add(5))  \n",
    "    print(kth.add(10))  \n",
    "    print(kth.add(9))   \n",
    "    print(kth.add(4))   \n"
   ]
  }
 ],
 "metadata": {
  "kernelspec": {
   "display_name": "Python 3",
   "language": "python",
   "name": "python3"
  },
  "language_info": {
   "codemirror_mode": {
    "name": "ipython",
    "version": 3
   },
   "file_extension": ".py",
   "mimetype": "text/x-python",
   "name": "python",
   "nbconvert_exporter": "python",
   "pygments_lexer": "ipython3",
   "version": "3.13.1"
  }
 },
 "nbformat": 4,
 "nbformat_minor": 5
}
