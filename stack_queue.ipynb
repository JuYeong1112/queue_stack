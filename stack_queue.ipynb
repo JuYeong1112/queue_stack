{
  "nbformat": 4,
  "nbformat_minor": 0,
  "metadata": {
    "colab": {
      "provenance": []
    },
    "kernelspec": {
      "name": "python3",
      "display_name": "Python 3"
    },
    "language_info": {
      "name": "python"
    }
  },
  "cells": [
    {
      "cell_type": "markdown",
      "source": [
        "# 1.  LeetCode 225.\n",
        "##Implement Stack using Queues"
      ],
      "metadata": {
        "id": "eenktAlhDyT8"
      }
    },
    {
      "cell_type": "code",
      "execution_count": 1,
      "metadata": {
        "id": "TbQNrpD4C8kg"
      },
      "outputs": [],
      "source": [
        "from collections import deque\n",
        "\n",
        "class MyStack:\n",
        "    def __init__(self):\n",
        "        self.queue1 = deque()\n",
        "        self.queue2 = deque()\n",
        "\n",
        "    def push(self, x):\n",
        "        self.queue2.append(x)\n",
        "        while self.queue1:\n",
        "            self.queue2.append(self.queue1.popleft())\n",
        "        self.queue1, self.queue2 = self.queue2, self.queue1\n",
        "\n",
        "    def pop(self):\n",
        "        return self.queue1.popleft()\n",
        "\n",
        "    def top(self):\n",
        "        return self.queue1[0]\n",
        "\n",
        "    def empty(self):\n",
        "        return not self.queue1\n"
      ]
    },
    {
      "cell_type": "markdown",
      "source": [
        "#2.   LeetCode 232.\n",
        "##Implement Queue using Stacks"
      ],
      "metadata": {
        "id": "Giw19YsEGUoT"
      }
    },
    {
      "cell_type": "code",
      "source": [
        "class MyQueue:\n",
        "\n",
        "    def __init__(self):\n",
        "        self.stack_in = []\n",
        "        self.stack_out = []\n",
        "\n",
        "    def push(self, x):\n",
        "        self.stack_in.append(x)\n",
        "\n",
        "    def pop(self):\n",
        "        self._move()\n",
        "        return self.stack_out.pop()\n",
        "\n",
        "    def peek(self):\n",
        "        self._move()\n",
        "        return self.stack_out[-1]\n",
        "\n",
        "    def empty(self):\n",
        "        return not self.stack_in and not self.stack_out\n",
        "\n",
        "    def _move(self):\n",
        "        if not self.stack_out:\n",
        "            while self.stack_in:\n",
        "                self.stack_out.append(self.stack_in.pop())\n"
      ],
      "metadata": {
        "id": "MOvAzOBuGWNR"
      },
      "execution_count": null,
      "outputs": []
    },
    {
      "cell_type": "markdown",
      "source": [
        "#3.  교재의 큐 연습문제 전부"
      ],
      "metadata": {
        "id": "n7lhoujEGh-0"
      }
    },
    {
      "cell_type": "markdown",
      "source": [
        "##1"
      ],
      "metadata": {
        "id": "TDXG0HmJG3Vz"
      }
    },
    {
      "cell_type": "code",
      "source": [
        "class ListQueue:\n",
        "    def __init__(self):\n",
        "        self.__queue = []\n",
        "\n",
        "    def enqueue(self, item):\n",
        "        self.__queue.insert(0, item)\n",
        "\n",
        "    def dequeue(self):\n",
        "        return self.__queue.pop()\n",
        "\n",
        "    def front(self):\n",
        "        if self.is_empty():\n",
        "            return None\n",
        "        else:\n",
        "            return self.__queue[-1]\n",
        "\n",
        "    def is_empty(self) -> bool:\n",
        "        return not bool(self.__queue)\n",
        "\n",
        "    def dequeue_all(self):\n",
        "        self.__queue.clear()\n"
      ],
      "metadata": {
        "id": "nO1a8knvG6k_"
      },
      "execution_count": 4,
      "outputs": []
    },
    {
      "cell_type": "markdown",
      "source": [
        "##2"
      ],
      "metadata": {
        "id": "6PUK6GIIHjDt"
      }
    },
    {
      "cell_type": "code",
      "source": [
        "def is_in_set(string: str) -> bool:\n",
        "    q = ListQueue()\n",
        "    index = 0\n",
        "\n",
        "    while string[index] != '$':\n",
        "        q.enqueue(string[index])\n",
        "        index += 1\n",
        "\n",
        "    index += 1\n",
        "\n",
        "    while index < len(string):\n",
        "        if q.dequeue() != string[index]:\n",
        "            return False\n",
        "        index += 1\n",
        "\n",
        "    return True\n"
      ],
      "metadata": {
        "id": "MjKkjbg_HlKf"
      },
      "execution_count": 6,
      "outputs": []
    },
    {
      "cell_type": "markdown",
      "source": [
        "##3"
      ],
      "metadata": {
        "id": "fhMMAg8sHvYn"
      }
    },
    {
      "cell_type": "code",
      "source": [
        "from collections import deque\n",
        "\n",
        "def copy_queue(original):\n",
        "    copy = deque()\n",
        "    temp = deque()\n",
        "\n",
        "    while original:\n",
        "        item = original.popleft()\n",
        "        copy.append(item)\n",
        "        temp.append(item)\n",
        "\n",
        "    while temp:\n",
        "        original.append(temp.popleft())\n",
        "\n",
        "    return copy\n"
      ],
      "metadata": {
        "id": "Q419gD0SHwl1"
      },
      "execution_count": 10,
      "outputs": []
    },
    {
      "cell_type": "markdown",
      "source": [
        "##4"
      ],
      "metadata": {
        "id": "bjFCsmYhH6qK"
      }
    },
    {
      "cell_type": "code",
      "source": [
        "from collections import deque\n",
        "\n",
        "class StackUsingQueues:\n",
        "    def __init__(self):\n",
        "        self.q1 = deque()\n",
        "        self.q2 = deque()\n",
        "\n",
        "    def push(self, x):\n",
        "        self.q1.append(x)\n",
        "\n",
        "    def pop(self):\n",
        "        while len(self.q1) > 1:\n",
        "            self.q2.append(self.q1.popleft())\n",
        "        top = self.q1.popleft()\n",
        "\n",
        "        self.q1, self.q2 = self.q2, self.q1\n",
        "        return top\n",
        "\n",
        "    def is_empty(self):\n",
        "        return not self.q1\n"
      ],
      "metadata": {
        "id": "IbB65y2oH8ON"
      },
      "execution_count": 12,
      "outputs": []
    },
    {
      "cell_type": "markdown",
      "source": [
        "##5"
      ],
      "metadata": {
        "id": "5nKsCtv9JOsM"
      }
    },
    {
      "cell_type": "code",
      "source": [
        "def enqueue(s1, s2, item):\n",
        "    while not s2.is_empty():\n",
        "        s2.pop()\n",
        "\n",
        "    while not s1.is_empty():\n",
        "        s2.push(s1.pop())\n",
        "\n",
        "    s1.push(item)\n",
        "\n",
        "    while not s2.is_empty():\n",
        "        s1.push(s2.pop())\n",
        "\n",
        "def dequeue(s1, s2):\n",
        "    if s1.is_empty():\n",
        "        raise IndexError(\"Queue is empty\")\n",
        "    return s1.pop()\n"
      ],
      "metadata": {
        "id": "uJzXkMuhJQmh"
      },
      "execution_count": null,
      "outputs": []
    },
    {
      "cell_type": "markdown",
      "source": [
        "##6"
      ],
      "metadata": {
        "id": "V_MxieQDJejB"
      }
    },
    {
      "cell_type": "markdown",
      "source": [
        "deque는 단방향 원형리스트이다.\n",
        "또한, 이 deque의 front는 리스트의 맨 앞이며 tail은 리스트의 맨 끝으로 한다.\n",
        "deque의 front에서 수행할 때 enqueue()의 수행시간은 Θ(1), tail에서 수행할 때는 Θ(1)이다. 즉, 수행 위치에 상관없이 enqueue()의 수행 시간은 Θ(1)이다.\n",
        "dequeue()의 수행시간은 deque의 front에서 수행할 경우 Θ(1), tail에서 수행할 때 Θ(1)이다. 즉. dequeue()도 수행 위치에 상관없이 수행 시간은 Θ(1)이다."
      ],
      "metadata": {
        "id": "nQwFdBpgJkBD"
      }
    },
    {
      "cell_type": "markdown",
      "source": [
        "##7"
      ],
      "metadata": {
        "id": "ZcI0cP-3Jk5X"
      }
    },
    {
      "cell_type": "markdown",
      "source": [
        "deque는 단방향 리스트이다.\n",
        "이 deque의 front는 리스트의 맨 앞, tail은 맨 끝이다.\n",
        "enqueue()의 수행시간은 deque의 front에서 수행할 때 Θ(1), deque의 tail에서 수행할 때 Θ(n)이다. 따라서 enqueue()의 수행 시간은 최악의 경우를 포함하여 Θ(n)라고 할 수 있다.\n",
        "dequeue()의 수행시간은 deque의 front에서 수행할 때 Θ(1), deque의 tail에서 수행할 때 Θ(n)이다. 따라서 dequeue()의 수행 시간 역시  최악의 경우를 포함하여 Θ(n)이다."
      ],
      "metadata": {
        "id": "1DzY1Bp1Jm8m"
      }
    },
    {
      "cell_type": "markdown",
      "source": [
        "##8"
      ],
      "metadata": {
        "id": "im6f06CNJsmz"
      }
    },
    {
      "cell_type": "code",
      "source": [
        "class ListDeque:\n",
        "    def __init__(self):\n",
        "        self.__queue = []\n",
        "\n",
        "    def enqueue(self, item):\n",
        "        self.__queue.append(item)\n",
        "\n",
        "    def dequeue(self):\n",
        "        return self.__queue.pop(0)\n",
        "\n",
        "    def push(self, item):\n",
        "        self.__queue.insert(0, item)\n",
        "\n",
        "    def pop(self):\n",
        "        return self.__queue.pop(len(self.__queue) - 1)\n",
        "\n",
        "    def front(self):\n",
        "        if self.is_empty():\n",
        "            return None\n",
        "        else:\n",
        "            return self.__queue[0]\n",
        "\n",
        "    def rear(self):\n",
        "        if self.is_empty():\n",
        "            return None\n",
        "        else:\n",
        "            return self.__queue[len(self.__queue) - 1]\n",
        "\n",
        "    def is_empty(self):\n",
        "        return not bool(self.__queue)\n",
        "\n",
        "    def deque_all(self):\n",
        "        self.__queue.clear()\n",
        "\n",
        "    def print_deque(self):\n",
        "        print(\"Dequeue from front:\", end=' ')\n",
        "        for index in range(len(self.__queue)):\n",
        "            print(self.__queue[index], end=' ')\n",
        "        print()\n"
      ],
      "metadata": {
        "id": "KPOESgl9J1TW"
      },
      "execution_count": null,
      "outputs": []
    }
  ]
}