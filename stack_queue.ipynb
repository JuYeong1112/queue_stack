{
  "nbformat": 4,
  "nbformat_minor": 0,
  "metadata": {
    "colab": {
      "provenance": []
    },
    "kernelspec": {
      "name": "python3",
      "display_name": "Python 3"
    },
    "language_info": {
      "name": "python"
    }
  },
  "cells": [
    {
      "cell_type": "markdown",
      "source": [
        "# 1.  LeetCode 225.\n",
        "##Implement Stack using Queues"
      ],
      "metadata": {
        "id": "eenktAlhDyT8"
      }
    },
    {
      "cell_type": "code",
      "execution_count": 1,
      "metadata": {
        "id": "TbQNrpD4C8kg"
      },
      "outputs": [],
      "source": [
        "from collections import deque\n",
        "\n",
        "class MyStack:\n",
        "    def __init__(self):\n",
        "        self.queue1 = deque()\n",
        "        self.queue2 = deque()\n",
        "\n",
        "    def push(self, x):\n",
        "        self.queue2.append(x)\n",
        "        while self.queue1:\n",
        "            self.queue2.append(self.queue1.popleft())\n",
        "        self.queue1, self.queue2 = self.queue2, self.queue1\n",
        "\n",
        "    def pop(self):\n",
        "        return self.queue1.popleft()\n",
        "\n",
        "    def top(self):\n",
        "        return self.queue1[0]\n",
        "\n",
        "    def empty(self):\n",
        "        return not self.queue1\n"
      ]
    },
    {
      "cell_type": "markdown",
      "source": [
        "#2.   LeetCode 232.\n",
        "##Implement Queue using Stacks"
      ],
      "metadata": {
        "id": "Giw19YsEGUoT"
      }
    },
    {
      "cell_type": "code",
      "source": [
        "class MyQueue:\n",
        "\n",
        "    def __init__(self):\n",
        "        self.stack_in = []\n",
        "        self.stack_out = []\n",
        "\n",
        "    def push(self, x):\n",
        "        self.stack_in.append(x)\n",
        "\n",
        "    def pop(self):\n",
        "        self._move()\n",
        "        return self.stack_out.pop()\n",
        "\n",
        "    def peek(self):\n",
        "        self._move()\n",
        "        return self.stack_out[-1]\n",
        "\n",
        "    def empty(self):\n",
        "        return not self.stack_in and not self.stack_out\n",
        "\n",
        "    def _move(self):\n",
        "        if not self.stack_out:\n",
        "            while self.stack_in:\n",
        "                self.stack_out.append(self.stack_in.pop())\n"
      ],
      "metadata": {
        "id": "MOvAzOBuGWNR"
      },
      "execution_count": null,
      "outputs": []
    },
    {
      "cell_type": "markdown",
      "source": [
        "#3.  교재의 큐 연습문제 전부"
      ],
      "metadata": {
        "id": "n7lhoujEGh-0"
      }
    },
    {
      "cell_type": "markdown",
      "source": [
        "##1"
      ],
      "metadata": {
        "id": "TDXG0HmJG3Vz"
      }
    },
    {
      "cell_type": "code",
      "source": [
        "class ListQueue:\n",
        "    def __init__(self):\n",
        "        self.__queue = []\n",
        "\n",
        "    def enqueue(self, item):\n",
        "        self.__queue.insert(0, item)\n",
        "\n",
        "    def dequeue(self):\n",
        "        return self.__queue.pop()\n",
        "\n",
        "    def front(self):\n",
        "        if self.is_empty():\n",
        "            return None\n",
        "        else:\n",
        "            return self.__queue[-1]\n",
        "\n",
        "    def is_empty(self) -> bool:\n",
        "        return not bool(self.__queue)\n",
        "\n",
        "    def dequeue_all(self):\n",
        "        self.__queue.clear()\n"
      ],
      "metadata": {
        "id": "nO1a8knvG6k_"
      },
      "execution_count": 4,
      "outputs": []
    },
    {
      "cell_type": "markdown",
      "source": [
        "##2"
      ],
      "metadata": {
        "id": "6PUK6GIIHjDt"
      }
    },
    {
      "cell_type": "code",
      "source": [
        "def is_in_set(string: str) -> bool:\n",
        "    q = ListQueue()\n",
        "    index = 0\n",
        "\n",
        "    while string[index] != '$':\n",
        "        q.enqueue(string[index])\n",
        "        index += 1\n",
        "\n",
        "    index += 1\n",
        "\n",
        "    while index < len(string):\n",
        "        if q.dequeue() != string[index]:\n",
        "            return False\n",
        "        index += 1\n",
        "\n",
        "    return True\n"
      ],
      "metadata": {
        "id": "MjKkjbg_HlKf"
      },
      "execution_count": 6,
      "outputs": []
    },
    {
      "cell_type": "markdown",
      "source": [
        "##3"
      ],
      "metadata": {
        "id": "fhMMAg8sHvYn"
      }
    },
    {
      "cell_type": "code",
      "source": [
        "def copy_linked_queue(a: LinkedQueue, b: LinkedQueue):\n",
        "    b.dequeue_all()\n",
        "    temp_queue = LinkedQueue()\n",
        "\n",
        "    while not a.is_empty():\n",
        "        item = a.dequeue()\n",
        "        temp_queue.enqueue(item)\n",
        "        b.enqueue(item)\n",
        "\n",
        "    while not temp_queue.is_empty():\n",
        "        a.enqueue(temp_queue.dequeue())\n"
      ],
      "metadata": {
        "colab": {
          "base_uri": "https://localhost:8080/",
          "height": 211
        },
        "id": "Q419gD0SHwl1",
        "outputId": "191d67f6-6854-4b9b-8b25-5a5def6d7ff4"
      },
      "execution_count": 7,
      "outputs": [
        {
          "output_type": "error",
          "ename": "NameError",
          "evalue": "name 'LinkedQueue' is not defined",
          "traceback": [
            "\u001b[0;31m---------------------------------------------------------------------------\u001b[0m",
            "\u001b[0;31mNameError\u001b[0m                                 Traceback (most recent call last)",
            "\u001b[0;32m<ipython-input-7-8791abad9363>\u001b[0m in \u001b[0;36m<cell line: 0>\u001b[0;34m()\u001b[0m\n\u001b[0;32m----> 1\u001b[0;31m \u001b[0;32mdef\u001b[0m \u001b[0mcopy_linked_queue\u001b[0m\u001b[0;34m(\u001b[0m\u001b[0ma\u001b[0m\u001b[0;34m:\u001b[0m \u001b[0mLinkedQueue\u001b[0m\u001b[0;34m,\u001b[0m \u001b[0mb\u001b[0m\u001b[0;34m:\u001b[0m \u001b[0mLinkedQueue\u001b[0m\u001b[0;34m)\u001b[0m\u001b[0;34m:\u001b[0m\u001b[0;34m\u001b[0m\u001b[0;34m\u001b[0m\u001b[0m\n\u001b[0m\u001b[1;32m      2\u001b[0m     \u001b[0mb\u001b[0m\u001b[0;34m.\u001b[0m\u001b[0mdequeue_all\u001b[0m\u001b[0;34m(\u001b[0m\u001b[0;34m)\u001b[0m\u001b[0;34m\u001b[0m\u001b[0;34m\u001b[0m\u001b[0m\n\u001b[1;32m      3\u001b[0m     \u001b[0mtemp_queue\u001b[0m \u001b[0;34m=\u001b[0m \u001b[0mLinkedQueue\u001b[0m\u001b[0;34m(\u001b[0m\u001b[0;34m)\u001b[0m\u001b[0;34m\u001b[0m\u001b[0;34m\u001b[0m\u001b[0m\n\u001b[1;32m      4\u001b[0m \u001b[0;34m\u001b[0m\u001b[0m\n\u001b[1;32m      5\u001b[0m     \u001b[0;32mwhile\u001b[0m \u001b[0;32mnot\u001b[0m \u001b[0ma\u001b[0m\u001b[0;34m.\u001b[0m\u001b[0mis_empty\u001b[0m\u001b[0;34m(\u001b[0m\u001b[0;34m)\u001b[0m\u001b[0;34m:\u001b[0m\u001b[0;34m\u001b[0m\u001b[0;34m\u001b[0m\u001b[0m\n",
            "\u001b[0;31mNameError\u001b[0m: name 'LinkedQueue' is not defined"
          ]
        }
      ]
    },
    {
      "cell_type": "markdown",
      "source": [
        "##4"
      ],
      "metadata": {
        "id": "bjFCsmYhH6qK"
      }
    },
    {
      "cell_type": "code",
      "source": [
        "def push(q1: LinkedQueue, q2: LinkedQueue, item):\n",
        "    q2.dequeue_all()\n",
        "\n",
        "    while not q1.is_empty():\n",
        "        q2.enqueue(q1.dequeue())\n",
        "\n",
        "    q1.enqueue(item)\n",
        "\n",
        "    while not q2.is_empty():\n",
        "        q1.enqueue(q2.dequeue())\n",
        "\n",
        "def pop(q1: LinkedQueue, q2: LinkedQueue):\n",
        "    q2.dequeue_all()\n",
        "    count = 0\n",
        "\n",
        "    while not q1.is_empty():\n",
        "        q2.enqueue(q1.dequeue())\n",
        "        count += 1\n",
        "\n",
        "    for _ in range(count - 1):\n",
        "        q1.enqueue(q2.dequeue())\n",
        "\n",
        "    return q2.dequeue()\n"
      ],
      "metadata": {
        "colab": {
          "base_uri": "https://localhost:8080/",
          "height": 211
        },
        "id": "IbB65y2oH8ON",
        "outputId": "a2aa7a91-d26d-44c9-9a03-0867e66527b6"
      },
      "execution_count": 9,
      "outputs": [
        {
          "output_type": "error",
          "ename": "NameError",
          "evalue": "name 'LinkedQueue' is not defined",
          "traceback": [
            "\u001b[0;31m---------------------------------------------------------------------------\u001b[0m",
            "\u001b[0;31mNameError\u001b[0m                                 Traceback (most recent call last)",
            "\u001b[0;32m<ipython-input-9-da1c2b8d0942>\u001b[0m in \u001b[0;36m<cell line: 0>\u001b[0;34m()\u001b[0m\n\u001b[0;32m----> 1\u001b[0;31m \u001b[0;32mdef\u001b[0m \u001b[0mpush\u001b[0m\u001b[0;34m(\u001b[0m\u001b[0mq1\u001b[0m\u001b[0;34m:\u001b[0m \u001b[0mLinkedQueue\u001b[0m\u001b[0;34m,\u001b[0m \u001b[0mq2\u001b[0m\u001b[0;34m:\u001b[0m \u001b[0mLinkedQueue\u001b[0m\u001b[0;34m,\u001b[0m \u001b[0mitem\u001b[0m\u001b[0;34m)\u001b[0m\u001b[0;34m:\u001b[0m\u001b[0;34m\u001b[0m\u001b[0;34m\u001b[0m\u001b[0m\n\u001b[0m\u001b[1;32m      2\u001b[0m     \u001b[0mq2\u001b[0m\u001b[0;34m.\u001b[0m\u001b[0mdequeue_all\u001b[0m\u001b[0;34m(\u001b[0m\u001b[0;34m)\u001b[0m\u001b[0;34m\u001b[0m\u001b[0;34m\u001b[0m\u001b[0m\n\u001b[1;32m      3\u001b[0m \u001b[0;34m\u001b[0m\u001b[0m\n\u001b[1;32m      4\u001b[0m     \u001b[0;32mwhile\u001b[0m \u001b[0;32mnot\u001b[0m \u001b[0mq1\u001b[0m\u001b[0;34m.\u001b[0m\u001b[0mis_empty\u001b[0m\u001b[0;34m(\u001b[0m\u001b[0;34m)\u001b[0m\u001b[0;34m:\u001b[0m\u001b[0;34m\u001b[0m\u001b[0;34m\u001b[0m\u001b[0m\n\u001b[1;32m      5\u001b[0m         \u001b[0mq2\u001b[0m\u001b[0;34m.\u001b[0m\u001b[0menqueue\u001b[0m\u001b[0;34m(\u001b[0m\u001b[0mq1\u001b[0m\u001b[0;34m.\u001b[0m\u001b[0mdequeue\u001b[0m\u001b[0;34m(\u001b[0m\u001b[0;34m)\u001b[0m\u001b[0;34m)\u001b[0m\u001b[0;34m\u001b[0m\u001b[0;34m\u001b[0m\u001b[0m\n",
            "\u001b[0;31mNameError\u001b[0m: name 'LinkedQueue' is not defined"
          ]
        }
      ]
    },
    {
      "cell_type": "markdown",
      "source": [
        "##5"
      ],
      "metadata": {
        "id": "5nKsCtv9JOsM"
      }
    },
    {
      "cell_type": "code",
      "source": [
        "def enqueue(s1, s2, item):\n",
        "    while not s2.is_empty():\n",
        "        s2.pop()\n",
        "\n",
        "    while not s1.is_empty():\n",
        "        s2.push(s1.pop())\n",
        "\n",
        "    s1.push(item)\n",
        "\n",
        "    while not s2.is_empty():\n",
        "        s1.push(s2.pop())\n",
        "\n",
        "def dequeue(s1, s2):\n",
        "    if s1.is_empty():\n",
        "        raise IndexError(\"Queue is empty\")\n",
        "    return s1.pop()\n"
      ],
      "metadata": {
        "id": "uJzXkMuhJQmh"
      },
      "execution_count": null,
      "outputs": []
    },
    {
      "cell_type": "markdown",
      "source": [
        "##6"
      ],
      "metadata": {
        "id": "V_MxieQDJejB"
      }
    },
    {
      "cell_type": "markdown",
      "source": [
        "deque는 단방향 원형리스트이다.\n",
        "또한, 이 deque의 front는 리스트의 맨 앞이며 tail은 리스트의 맨 끝으로 한다.\n",
        "deque의 front에서 수행할 때 enqueue()의 수행시간은 Θ(1), tail에서 수행할 때는 Θ(1)이다. 즉, 수행 위치에 상관없이 enqueue()의 수행 시간은 Θ(1)이다.\n",
        "dequeue()의 수행시간은 deque의 front에서 수행할 경우 Θ(1), tail에서 수행할 때 Θ(1)이다. 즉. dequeue()도 수행 위치에 상관없이 수행 시간은 Θ(1)이다."
      ],
      "metadata": {
        "id": "nQwFdBpgJkBD"
      }
    },
    {
      "cell_type": "markdown",
      "source": [
        "##7"
      ],
      "metadata": {
        "id": "ZcI0cP-3Jk5X"
      }
    },
    {
      "cell_type": "markdown",
      "source": [
        "deque는 단방향 리스트이다.\n",
        "이 deque의 front는 리스트의 맨 앞, tail은 맨 끝이다.\n",
        "enqueue()의 수행시간은 deque의 front에서 수행할 때 Θ(1), deque의 tail에서 수행할 때 Θ(n)이다. 따라서 enqueue()의 수행 시간은 최악의 경우를 포함하여 Θ(n)라고 할 수 있다.\n",
        "dequeue()의 수행시간은 deque의 front에서 수행할 때 Θ(1), deque의 tail에서 수행할 때 Θ(n)이다. 따라서 dequeue()의 수행 시간 역시  최악의 경우를 포함하여 Θ(n)이다."
      ],
      "metadata": {
        "id": "1DzY1Bp1Jm8m"
      }
    },
    {
      "cell_type": "markdown",
      "source": [
        "##8"
      ],
      "metadata": {
        "id": "im6f06CNJsmz"
      }
    },
    {
      "cell_type": "code",
      "source": [
        "class ListDeque:\n",
        "    def __init__(self):\n",
        "        self.__queue = []\n",
        "\n",
        "    def enqueue(self, item):\n",
        "        self.__queue.append(item)\n",
        "\n",
        "    def dequeue(self):\n",
        "        return self.__queue.pop(0)\n",
        "\n",
        "    def push(self, item):\n",
        "        self.__queue.insert(0, item)\n",
        "\n",
        "    def pop(self):\n",
        "        return self.__queue.pop(len(self.__queue) - 1)\n",
        "\n",
        "    def front(self):\n",
        "        if self.is_empty():\n",
        "            return None\n",
        "        else:\n",
        "            return self.__queue[0]\n",
        "\n",
        "    def rear(self):\n",
        "        if self.is_empty():\n",
        "            return None\n",
        "        else:\n",
        "            return self.__queue[len(self.__queue) - 1]\n",
        "\n",
        "    def is_empty(self):\n",
        "        return not bool(self.__queue)\n",
        "\n",
        "    def deque_all(self):\n",
        "        self.__queue.clear()\n",
        "\n",
        "    def print_deque(self):\n",
        "        print(\"Dequeue from front:\", end=' ')\n",
        "        for index in range(len(self.__queue)):\n",
        "            print(self.__queue[index], end=' ')\n",
        "        print()\n"
      ],
      "metadata": {
        "id": "KPOESgl9J1TW"
      },
      "execution_count": null,
      "outputs": []
    }
  ]
}